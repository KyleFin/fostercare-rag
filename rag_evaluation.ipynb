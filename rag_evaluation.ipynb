{
  "cells": [
    {
      "cell_type": "code",
      "execution_count": 7,
      "metadata": {
        "colab": {
          "base_uri": "https://localhost:8080/"
        },
        "id": "7LttlDQUYgSI",
        "outputId": "9dca95ab-4d02-4adf-ec3f-cb831326dc54"
      },
      "outputs": [],
      "source": [
        "import os\n",
        "import getpass\n",
        "\n",
        "os.environ[\"OPENAI_API_KEY\"] = getpass.getpass(\"Enter your OpenAI API Key:\")"
      ]
    },
    {
      "cell_type": "code",
      "execution_count": 8,
      "metadata": {
        "colab": {
          "base_uri": "https://localhost:8080/"
        },
        "id": "3iUahNiJyQbv",
        "outputId": "78bf06ef-2ee8-46c3-f73d-27958b4dd79b"
      },
      "outputs": [],
      "source": [
        "os.environ[\"COHERE_API_KEY\"] = getpass.getpass(\"Cohere API Key:\")"
      ]
    },
    {
      "cell_type": "code",
      "execution_count": 3,
      "metadata": {},
      "outputs": [],
      "source": [
        "from langchain_community.document_loaders import DirectoryLoader\n",
        "from langchain_community.document_loaders import PyMuPDFLoader\n",
        "\n",
        "path = \"data/\"\n",
        "loader = DirectoryLoader(path, glob=\"pub5108.pdf\", loader_cls=PyMuPDFLoader)    # glob = \"*.pdf\" to load all pdfs\n",
        "docs = loader.load()"
      ]
    },
    {
      "cell_type": "code",
      "execution_count": 4,
      "metadata": {},
      "outputs": [
        {
          "data": {
            "text/plain": [
              "88"
            ]
          },
          "execution_count": 4,
          "metadata": {},
          "output_type": "execute_result"
        }
      ],
      "source": [
        "from langchain.text_splitter import RecursiveCharacterTextSplitter\n",
        "\n",
        "text_splitter = RecursiveCharacterTextSplitter(chunk_size=1000, chunk_overlap=200)\n",
        "split_documents = text_splitter.split_documents(docs)\n",
        "len(split_documents)"
      ]
    },
    {
      "cell_type": "code",
      "execution_count": null,
      "metadata": {
        "colab": {
          "base_uri": "https://localhost:8080/"
        },
        "id": "PkUkCf7DaMiq",
        "outputId": "e90bd5da-1d87-423b-838a-cb6efc16b199"
      },
      "outputs": [
        {
          "data": {
            "text/plain": [
              "Document(metadata={'producer': 'Adobe PDF library 15.00', 'creator': 'Adobe Illustrator CC 23.0 (Windows)', 'creationdate': '2021-05-04T14:08:47-04:00', 'source': 'data/pub5108.pdf', 'file_path': 'data/pub5108.pdf', 'total_pages': 27, 'format': 'PDF 1.5', 'title': 'Pub.5108', 'author': '', 'subject': '', 'keywords': '', 'moddate': '2021-05-04T14:08:47-04:00', 'trapped': '', 'modDate': \"D:20210504140847-04'00'\", 'creationDate': \"D:20210504140847-04'00'\", 'page': 0}, page_content='Know Your Permanency Options:\\nThe Kinship Guardianship\\nAssistance Program \\n(KinGAP)\\nFully understanding their options is \\nthe best way for caregivers to \\nhave a voice and a choice.')"
            ]
          },
          "execution_count": 5,
          "metadata": {},
          "output_type": "execute_result"
        }
      ],
      "source": [
        "# Print the first document to verify data loaded as expected\n",
        "docs[0]"
      ]
    },
    {
      "cell_type": "code",
      "execution_count": 9,
      "metadata": {
        "id": "NT8ihRJbYmMT"
      },
      "outputs": [],
      "source": [
        "from langchain_community.vectorstores import Qdrant\n",
        "from langchain_openai import OpenAIEmbeddings\n",
        "\n",
        "embeddings = OpenAIEmbeddings(model=\"text-embedding-3-small\")\n",
        "\n",
        "vectorstore = Qdrant.from_documents(\n",
        "    docs,\n",
        "    embeddings,\n",
        "    location=\":memory:\",\n",
        "    collection_name=\"FosterCarePolicies\"\n",
        ")"
      ]
    },
    {
      "cell_type": "markdown",
      "metadata": {
        "id": "-x2SS4Rh0hiN"
      },
      "source": [
        "## Naive RAG Chain"
      ]
    },
    {
      "cell_type": "code",
      "execution_count": 10,
      "metadata": {
        "id": "GFDPrNBtb72o"
      },
      "outputs": [],
      "source": [
        "naive_retriever = vectorstore.as_retriever(search_kwargs={\"k\" : 10})"
      ]
    },
    {
      "cell_type": "code",
      "execution_count": 11,
      "metadata": {
        "id": "7uSz-Dbqcoki"
      },
      "outputs": [],
      "source": [
        "from langchain_core.prompts import ChatPromptTemplate\n",
        "\n",
        "RAG_TEMPLATE = \"\"\"\\\n",
        "You are a helpful and kind assistant. Use the context provided below to answer the question.\n",
        "\n",
        "If you do not know the answer, or are unsure, say you don't know.\n",
        "\n",
        "Query:\n",
        "{question}\n",
        "\n",
        "Context:\n",
        "{context}\n",
        "\"\"\"\n",
        "\n",
        "rag_prompt = ChatPromptTemplate.from_template(RAG_TEMPLATE)"
      ]
    },
    {
      "cell_type": "code",
      "execution_count": 12,
      "metadata": {
        "id": "c-1t9H60dJLg"
      },
      "outputs": [],
      "source": [
        "from langchain_openai import ChatOpenAI\n",
        "\n",
        "chat_model = ChatOpenAI(model=\"gpt-4.1-nano\")"
      ]
    },
    {
      "cell_type": "markdown",
      "metadata": {
        "id": "mg3QRGzA1M2x"
      },
      "source": [
        "### LCEL RAG Chain"
      ]
    },
    {
      "cell_type": "code",
      "execution_count": 13,
      "metadata": {
        "id": "0bvstS7mdOW3"
      },
      "outputs": [],
      "source": [
        "from langchain_core.runnables import RunnablePassthrough\n",
        "from operator import itemgetter\n",
        "from langchain_core.output_parsers import StrOutputParser\n",
        "\n",
        "naive_retrieval_chain = (\n",
        "    # INVOKE CHAIN WITH: {\"question\" : \"<<SOME USER QUESTION>>\"}\n",
        "    # \"question\" : populated by getting the value of the \"question\" key\n",
        "    # \"context\"  : populated by getting the value of the \"question\" key and chaining it into the base_retriever\n",
        "    {\"context\": itemgetter(\"question\") | naive_retriever, \"question\": itemgetter(\"question\")}\n",
        "    # \"context\"  : is assigned to a RunnablePassthrough object (will not be called or considered in the next step)\n",
        "    #              by getting the value of the \"context\" key from the previous step\n",
        "    | RunnablePassthrough.assign(context=itemgetter(\"context\"))\n",
        "    # \"response\" : the \"context\" and \"question\" values are used to format our prompt object and then piped\n",
        "    #              into the LLM and stored in a key called \"response\"\n",
        "    # \"context\"  : populated by getting the value of the \"context\" key from the previous step\n",
        "    | {\"response\": rag_prompt | chat_model, \"context\": itemgetter(\"context\")}\n",
        ")"
      ]
    },
    {
      "cell_type": "code",
      "execution_count": 14,
      "metadata": {
        "colab": {
          "base_uri": "https://localhost:8080/",
          "height": 36
        },
        "id": "LI-5ueEddku9",
        "outputId": "7f3cec18-5f4e-41bb-cf71-51ba0be5388e"
      },
      "outputs": [
        {
          "data": {
            "text/plain": [
              "\"Some ramifications of legal guardianship include:\\n\\n- The guardian gains the right and responsibility to make decisions affecting the child's life, including medical, educational, and personal needs.\\n- The child is discharged from foster care and is no longer under the supervision of LDSS, ACS, or voluntary agencies, although services can sometimes still be requested.\\n- Guardianship is a permanent commitment that lasts until the child reaches adulthood, with guardianship assistance potentially continuing until age 21 if certain conditions are met.\\n- The child's parents retain parental rights unless these have been terminated or surrendered; they may still visit the child and file petitions to regain custody.\\n- Guardians have duties to protect and support the child, make legal decisions, and manage the child's welfare, including in areas like education, healthcare, and residence.\\n- Guardianship arrangements can influence inheritance rights, survivor benefits, and the child's relationships with birth family members.\\n- The guardianship process includes legal and financial considerations, like agreements, reimbursements for expenses, and ensuring ongoing support and services.\\n- Guardianship can affect the child's connection with birth parents and siblings, with arrangements often involving court supervision of visitation and contact.\\n- Changes in circumstances, such as moving out of state or the child's change of status, require reporting to authorities and may impact the guardianship status.\\n\\nPlease let me know if you'd like more detailed information about any specific aspects.\""
            ]
          },
          "execution_count": 14,
          "metadata": {},
          "output_type": "execute_result"
        }
      ],
      "source": [
        "naive_retrieval_chain.invoke({\"question\" : \"What are some ramifications of legal guardianship?\"})[\"response\"].content"
      ]
    },
    {
      "cell_type": "markdown",
      "metadata": {
        "id": "Ft1vt8HPR16w"
      },
      "source": [
        "## Best-Matching 25 (BM25) Retriever"
      ]
    },
    {
      "cell_type": "code",
      "execution_count": 15,
      "metadata": {
        "id": "qdF4wuj5R-cG"
      },
      "outputs": [],
      "source": [
        "from langchain_community.retrievers import BM25Retriever\n",
        "\n",
        "bm25_retriever = BM25Retriever.from_documents(docs, )"
      ]
    },
    {
      "cell_type": "markdown",
      "metadata": {
        "id": "KIjJlBQ8drKH"
      },
      "source": [
        "We'll construct the same chain - only changing the retriever."
      ]
    },
    {
      "cell_type": "code",
      "execution_count": 16,
      "metadata": {
        "id": "WR15EQG7SLuw"
      },
      "outputs": [],
      "source": [
        "bm25_retrieval_chain = (\n",
        "    {\"context\": itemgetter(\"question\") | bm25_retriever, \"question\": itemgetter(\"question\")}\n",
        "    | RunnablePassthrough.assign(context=itemgetter(\"context\"))\n",
        "    | {\"response\": rag_prompt | chat_model, \"context\": itemgetter(\"context\")}\n",
        ")"
      ]
    },
    {
      "cell_type": "markdown",
      "metadata": {
        "id": "0Gi-yXCDdvJk"
      },
      "source": [
        "Let's look at the responses!"
      ]
    },
    {
      "cell_type": "code",
      "execution_count": 17,
      "metadata": {
        "colab": {
          "base_uri": "https://localhost:8080/",
          "height": 53
        },
        "id": "oY9qzmm3SOrF",
        "outputId": "4d4f450f-5978-460f-f242-b32407868353"
      },
      "outputs": [
        {
          "data": {
            "text/plain": [
              "\"Some ramifications of legal guardianship include:\\n\\n- The guardian takes on a permanent responsibility for the child's care and support until the child reaches adulthood, and in some cases, until age 21 with the youth's consent.\\n- The guardian has the authority to make important decisions for the child, such as medical and educational decisions.\\n- The child's biological parents usually retain some rights unless those rights have been terminated or surrendered. They may still have visitation rights and can request to have guardianship ended if circumstances change.\\n- The court can specify or modify visitation and contact arrangements with birth parents and siblings, and guardians are responsible for maintaining these relationships.\\n- The child's legal name can be changed through court process, and the youth must consent to their guardianship agreement if they are 18 or older.\\n- Guardianship is less permanent than adoption because birth parents can petition to have guardianship vacated, returning custody to themselves if they can demonstrate significant change and meet court criteria.\\n- The guardian's relationship with the child, and interactions with birth parents and siblings, can significantly influence the child's emotional and social well-being.\\n\\nIf you need more specific information, consulting legal resources or a legal professional can provide additional guidance.\""
            ]
          },
          "execution_count": 17,
          "metadata": {},
          "output_type": "execute_result"
        }
      ],
      "source": [
        "bm25_retrieval_chain.invoke({\"question\" : \"What are some ramifications of legal guardianship?\"})[\"response\"].content"
      ]
    },
    {
      "cell_type": "markdown",
      "metadata": {},
      "source": [
        "## Contextual compression with Cohere Rerank"
      ]
    },
    {
      "cell_type": "code",
      "execution_count": 18,
      "metadata": {
        "id": "psHvO2K1v_ZQ"
      },
      "outputs": [],
      "source": [
        "from langchain.retrievers.contextual_compression import ContextualCompressionRetriever\n",
        "from langchain_cohere import CohereRerank\n",
        "\n",
        "compressor = CohereRerank(model=\"rerank-v3.5\")\n",
        "compression_retriever = ContextualCompressionRetriever(\n",
        "    base_compressor=compressor, base_retriever=naive_retriever\n",
        ")"
      ]
    },
    {
      "cell_type": "markdown",
      "metadata": {
        "id": "_TA9RB2x-j7P"
      },
      "source": [
        "Let's create our chain again, and see how this does!"
      ]
    },
    {
      "cell_type": "code",
      "execution_count": 19,
      "metadata": {
        "id": "1BXqmxvHwX6T"
      },
      "outputs": [],
      "source": [
        "contextual_compression_retrieval_chain = (\n",
        "    {\"context\": itemgetter(\"question\") | compression_retriever, \"question\": itemgetter(\"question\")}\n",
        "    | RunnablePassthrough.assign(context=itemgetter(\"context\"))\n",
        "    | {\"response\": rag_prompt | chat_model, \"context\": itemgetter(\"context\")}\n",
        ")"
      ]
    },
    {
      "cell_type": "code",
      "execution_count": 20,
      "metadata": {
        "colab": {
          "base_uri": "https://localhost:8080/",
          "height": 36
        },
        "id": "V3iGpokswcBb",
        "outputId": "f15d2aa1-5e8b-417d-f623-eb835d072e59"
      },
      "outputs": [
        {
          "data": {
            "text/plain": [
              "\"Some ramifications of legal guardianship include:\\n\\n- The guardian has the right and responsibility to make decisions affecting the child's life, such as medical and educational decisions.\\n- The child's parents still retain parental rights unless those rights have been terminated or surrendered.\\n- The guardian assumes a permanent commitment to support and care for the child until they reach adulthood or, in some cases, until age 21.\\n- The child will no longer be in foster care and the guardian will no longer have caseworker visits or court reviews related to foster care.\\n- The guardian may receive kinship guardianship assistance payments, which can provide financial support, though these payments may be less than foster care payments.\\n- The guardian has legal duties to protect the child and meet their personal needs, including food, shelter, and clothing.\\n- The guardian generally has the authority to decide on care, control, and custody, but the birth parents may still have some involvement unless their parental rights have been legally terminated.\\n\\nLet me know if you'd like more details!\""
            ]
          },
          "execution_count": 20,
          "metadata": {},
          "output_type": "execute_result"
        }
      ],
      "source": [
        "contextual_compression_retrieval_chain.invoke({\"question\" : \"What are some ramifications of legal guardianship?\"})[\"response\"].content"
      ]
    },
    {
      "cell_type": "markdown",
      "metadata": {
        "id": "qqbghrBEQNn5"
      },
      "source": [
        "## Multi-Query Retriever\n",
        "\n"
      ]
    },
    {
      "cell_type": "code",
      "execution_count": 21,
      "metadata": {
        "id": "pfM26ReXQjzU"
      },
      "outputs": [],
      "source": [
        "from langchain.retrievers.multi_query import MultiQueryRetriever\n",
        "\n",
        "multi_query_retriever = MultiQueryRetriever.from_llm(\n",
        "    retriever=naive_retriever, llm=chat_model\n",
        ")"
      ]
    },
    {
      "cell_type": "code",
      "execution_count": 22,
      "metadata": {
        "id": "1vRc129jQ5WW"
      },
      "outputs": [],
      "source": [
        "multi_query_retrieval_chain = (\n",
        "    {\"context\": itemgetter(\"question\") | multi_query_retriever, \"question\": itemgetter(\"question\")}\n",
        "    | RunnablePassthrough.assign(context=itemgetter(\"context\"))\n",
        "    | {\"response\": rag_prompt | chat_model, \"context\": itemgetter(\"context\")}\n",
        ")"
      ]
    },
    {
      "cell_type": "code",
      "execution_count": 23,
      "metadata": {
        "colab": {
          "base_uri": "https://localhost:8080/",
          "height": 53
        },
        "id": "CGgNuOb3Q3M9",
        "outputId": "c5273ecf-da35-40b8-fbdb-0f8beab425f7"
      },
      "outputs": [
        {
          "data": {
            "text/plain": [
              "\"Some ramifications of legal guardianship include:\\n\\n- The guardian is responsible for making decisions affecting the child's life and development, such as medical and educational choices.\\n- Guardianship is a permanent commitment until the child reaches adulthood or, in some cases, until age 21 with the child's consent.\\n- The child's parents still retain parental rights unless these rights have been terminated or surrendered, and they may visit the child or request custody return.\\n- Guardians may be eligible for financial assistance, including kinship guardianship assistance payments, Medicaid, food stamps, and other benefits.\\n- The guardian's responsibilities include protecting the child, providing personal needs, and making decisions regarding care, control, and physical custody.\\n- Establishing guardianship involves a court process, including signing a Kinship Guardianship Assistance Agreement and possibly filing a petition for guardianship.\\n- Upon the death or incapacity of the guardian, another trusted individual may be named as a successor guardian, though this requires specific arrangements.\\n- Guardianship may impact inheritance rights and survivor benefits, as the child's rights to inherit from birth or guardianship parents can vary.\\n- Guardianship arrangements may affect the child's relationships with birth parents and siblings, with provisions for visitation or contact governed by court orders or agreements.\\n- Additional responsibilities include reporting to LDSS/ACS about the child's status, moving out of state, and notifying authorities of changes like the child's residence, support, or legal status.\\n\\nPlease let me know if you'd like more details on any specific aspect.\""
            ]
          },
          "execution_count": 23,
          "metadata": {},
          "output_type": "execute_result"
        }
      ],
      "source": [
        "multi_query_retrieval_chain.invoke({\"question\" : \"What are some ramifications of legal guardianship?\"})[\"response\"].content"
      ]
    },
    {
      "cell_type": "markdown",
      "metadata": {
        "id": "EDEawBf_d_3G"
      },
      "source": [
        "## Parent Document Retriever"
      ]
    },
    {
      "cell_type": "code",
      "execution_count": 24,
      "metadata": {
        "id": "qJ53JJuMd_ZH"
      },
      "outputs": [],
      "source": [
        "from langchain.retrievers import ParentDocumentRetriever\n",
        "from langchain.storage import InMemoryStore\n",
        "from langchain_text_splitters import RecursiveCharacterTextSplitter\n",
        "from qdrant_client import QdrantClient, models\n",
        "\n",
        "parent_docs = docs\n",
        "child_splitter = RecursiveCharacterTextSplitter(chunk_size=750)"
      ]
    },
    {
      "cell_type": "markdown",
      "metadata": {
        "id": "oOpXfVUH3gL3"
      },
      "source": [
        "We'll need to set up a new QDrant vectorstore - and we'll use another useful pattern to do so!\n",
        "\n",
        "> NOTE: We are manually defining our embedding dimension, you'll need to change this if you're using a different embedding model."
      ]
    },
    {
      "cell_type": "code",
      "execution_count": 25,
      "metadata": {
        "colab": {
          "base_uri": "https://localhost:8080/"
        },
        "id": "rzFc-_9HlGQ-",
        "outputId": "223662dd-c36f-42f7-d1b0-b086e571484e"
      },
      "outputs": [],
      "source": [
        "from langchain_qdrant import QdrantVectorStore\n",
        "\n",
        "client = QdrantClient(location=\":memory:\")\n",
        "\n",
        "client.create_collection(\n",
        "    collection_name=\"full_documents\",\n",
        "    vectors_config=models.VectorParams(size=1536, distance=models.Distance.COSINE)\n",
        ")\n",
        "\n",
        "parent_document_vectorstore = QdrantVectorStore(\n",
        "    collection_name=\"full_documents\", embedding=OpenAIEmbeddings(model=\"text-embedding-3-small\"), client=client\n",
        ")"
      ]
    },
    {
      "cell_type": "markdown",
      "metadata": {
        "id": "sf_g95FA3s6w"
      },
      "source": [
        "Now we can create our `InMemoryStore` that will hold our \"parent documents\" - and build our retriever!"
      ]
    },
    {
      "cell_type": "code",
      "execution_count": 26,
      "metadata": {
        "id": "BpWVjPf4fLUp"
      },
      "outputs": [],
      "source": [
        "store = InMemoryStore()\n",
        "\n",
        "parent_document_retriever = ParentDocumentRetriever(\n",
        "    vectorstore = parent_document_vectorstore,\n",
        "    docstore=store,\n",
        "    child_splitter=child_splitter,\n",
        ")"
      ]
    },
    {
      "cell_type": "markdown",
      "metadata": {
        "id": "KoYmSWfE32Zo"
      },
      "source": [
        "By default, this is empty as we haven't added any documents - let's add some now!"
      ]
    },
    {
      "cell_type": "code",
      "execution_count": 27,
      "metadata": {
        "id": "iQ2ZzfKigMZc"
      },
      "outputs": [],
      "source": [
        "parent_document_retriever.add_documents(parent_docs, ids=None)"
      ]
    },
    {
      "cell_type": "markdown",
      "metadata": {
        "id": "bI7Tip1335rE"
      },
      "source": [
        "We'll create the same chain we did before - but substitute our new `parent_document_retriever`."
      ]
    },
    {
      "cell_type": "code",
      "execution_count": 28,
      "metadata": {
        "id": "Qq_adt2KlSqp"
      },
      "outputs": [],
      "source": [
        "parent_document_retrieval_chain = (\n",
        "    {\"context\": itemgetter(\"question\") | parent_document_retriever, \"question\": itemgetter(\"question\")}\n",
        "    | RunnablePassthrough.assign(context=itemgetter(\"context\"))\n",
        "    | {\"response\": rag_prompt | chat_model, \"context\": itemgetter(\"context\")}\n",
        ")"
      ]
    },
    {
      "cell_type": "code",
      "execution_count": 29,
      "metadata": {
        "colab": {
          "base_uri": "https://localhost:8080/",
          "height": 70
        },
        "id": "TXB5i89Zly5W",
        "outputId": "94c240be-7c5b-4c58-9eee-56d93285a054"
      },
      "outputs": [
        {
          "data": {
            "text/plain": [
              "\"Some ramifications of legal guardianship include:\\n\\n- The guardian takes on a permanent responsibility to support and care for the child until they reach adulthood, or possibly until age 21 with the child's consent.\\n- The guardian has the authority to make medical and educational decisions for the child.\\n- The child's case is no longer managed by foster care agencies or caseworkers, and court reviews of the case are generally no longer required.\\n- The guardian may be eligible for financial assistance such as kinship guardianship assistance payments, Medicaid, food stamps, SSI, or child support.\\n- The child's parents may still retain parental rights unless these are terminated or surrendered, meaning they may still have visitation rights or the ability to petition for custody return.\\n- The guardian is responsible for protecting the child's needs, including provision of food, clothing, shelter, and general care.\\n\\nAdditionally, guardianship is a legal arrangement that involves ongoing responsibilities and may influence access to services and the child's legal relationships with biological parents.\""
            ]
          },
          "execution_count": 29,
          "metadata": {},
          "output_type": "execute_result"
        }
      ],
      "source": [
        "parent_document_retrieval_chain.invoke({\"question\" : \"What are some ramifications of legal guardianship?\"})[\"response\"].content"
      ]
    },
    {
      "cell_type": "markdown",
      "metadata": {
        "id": "VUrIBKl_TwS9"
      },
      "source": [
        "## Ensemble Retriever"
      ]
    },
    {
      "cell_type": "code",
      "execution_count": 30,
      "metadata": {
        "id": "8j7jpZsKTxic"
      },
      "outputs": [],
      "source": [
        "from langchain.retrievers import EnsembleRetriever\n",
        "\n",
        "retriever_list = [bm25_retriever, naive_retriever, parent_document_retriever, compression_retriever, multi_query_retriever]\n",
        "equal_weighting = [1/len(retriever_list)] * len(retriever_list)\n",
        "\n",
        "ensemble_retriever = EnsembleRetriever(\n",
        "    retrievers=retriever_list, weights=equal_weighting\n",
        ")"
      ]
    },
    {
      "cell_type": "markdown",
      "metadata": {
        "id": "kpo9Psl5hhJ-"
      },
      "source": [
        "We'll pack *all* of these retrievers together in an ensemble."
      ]
    },
    {
      "cell_type": "code",
      "execution_count": 31,
      "metadata": {
        "id": "KZ__EZwpUKkd"
      },
      "outputs": [],
      "source": [
        "ensemble_retrieval_chain = (\n",
        "    {\"context\": itemgetter(\"question\") | ensemble_retriever, \"question\": itemgetter(\"question\")}\n",
        "    | RunnablePassthrough.assign(context=itemgetter(\"context\"))\n",
        "    | {\"response\": rag_prompt | chat_model, \"context\": itemgetter(\"context\")}\n",
        ")"
      ]
    },
    {
      "cell_type": "code",
      "execution_count": 35,
      "metadata": {},
      "outputs": [
        {
          "data": {
            "text/plain": [
              "\"Some ramifications of legal guardianship include:\\n\\n1. The guardian has the responsibility and authority to make decisions affecting the child's life, including medical, educational, and physical custody decisions.\\n\\n2. The child's biological parents still retain their parental rights unless these rights are terminated or surrendered, which means they may still visit the child or seek custody through court petitions.\\n\\n3. Upon becoming a guardian, the guardian no longer has involvement from foster care caseworkers, and the child is no longer in foster care.\\n\\n4. Guardians may be eligible for financial assistance, such as kinship guardianship assistance payments, Medicaid, and other benefits, but these may be up to a certain amount and may continue until the child reaches 18 or 21, depending on circumstances.\\n\\n5. The guardian's responsibilities include protecting the child, meeting personal needs, applying for benefits, and managing travel and medical decisions.\\n\\n6. Guardians can decide whether to maintain relationships with birth parents or siblings, but the child's relationship with these parties is still subject to court oversight, and the court may specify visitation terms.\\n\\n7. The guardianship arrangement may be revoked or modified if circumstances change, such as the child's removal back into foster care or the death of the guardian, with specific procedures and potential loss of benefits.\\n\\n8. Guardianship is intended as a long-term or permanent arrangement, but it may not be as absolute as adoption, especially because the birth parents’ rights may still be recognized until formally terminated.\\n\\nThese are some of the legal, financial, and relational implications associated with guardianship as outlined in the provided document.\""
            ]
          },
          "execution_count": 35,
          "metadata": {},
          "output_type": "execute_result"
        }
      ],
      "source": [
        "ensemble_retrieval_chain.invoke({\"question\" : \"What are some ramifications of legal guardianship?\"})[\"response\"].content"
      ]
    },
    {
      "cell_type": "code",
      "execution_count": 32,
      "metadata": {
        "colab": {
          "base_uri": "https://localhost:8080/",
          "height": 70
        },
        "id": "0lMvqL88UQI-",
        "outputId": "d86dd5f7-0a13-4836-c0ce-cc4c431fd889"
      },
      "outputs": [
        {
          "data": {
            "text/plain": [
              "'The most common issue with loans is typically repayment difficulties, which can include missed payments, inability to repay the loan on time, or financial hardship that prevents consistent repayments. These issues can lead to loan defaults, penalties, and damage to credit scores.'"
            ]
          },
          "execution_count": 32,
          "metadata": {},
          "output_type": "execute_result"
        }
      ],
      "source": [
        "ensemble_retrieval_chain.invoke({\"question\" : \"What is the most common issue with loans?\"})[\"response\"].content"
      ]
    },
    {
      "cell_type": "code",
      "execution_count": 33,
      "metadata": {
        "colab": {
          "base_uri": "https://localhost:8080/",
          "height": 53
        },
        "id": "MNFWLYECURI1",
        "outputId": "b17973b5-66a9-4481-97d5-880b5754b5c5"
      },
      "outputs": [
        {
          "data": {
            "text/plain": [
              "'Based on the provided context, there is no specific mention of complaints not being handled in a timely manner. Therefore, I do not know if any complaints did not get handled promptly.'"
            ]
          },
          "execution_count": 33,
          "metadata": {},
          "output_type": "execute_result"
        }
      ],
      "source": [
        "ensemble_retrieval_chain.invoke({\"question\" : \"Did any complaints not get handled in a timely manner?\"})[\"response\"].content"
      ]
    },
    {
      "cell_type": "code",
      "execution_count": 34,
      "metadata": {
        "colab": {
          "base_uri": "https://localhost:8080/",
          "height": 88
        },
        "id": "A7qbHfWgUR4c",
        "outputId": "f7373144-59ef-4fc7-b75d-ca00e7df881e"
      },
      "outputs": [
        {
          "data": {
            "text/plain": [
              "'People failed to pay back their loans for various reasons, which may include financial difficulties, loss of income, unexpected expenses, or inability to meet repayment terms. However, based on the provided context, there is no specific information explaining why individuals failed to pay back their loans. Therefore, I do not know the exact reasons.'"
            ]
          },
          "execution_count": 34,
          "metadata": {},
          "output_type": "execute_result"
        }
      ],
      "source": [
        "ensemble_retrieval_chain.invoke({\"question\" : \"Why did people fail to pay back their loans?\"})[\"response\"].content"
      ]
    },
    {
      "cell_type": "markdown",
      "metadata": {
        "id": "MopbkNJAXVaN"
      },
      "source": [
        "## Semantic Chunking (not a retrieval method)"
      ]
    },
    {
      "cell_type": "code",
      "execution_count": 36,
      "metadata": {
        "id": "66EIEWiEYl5y"
      },
      "outputs": [],
      "source": [
        "from langchain_experimental.text_splitter import SemanticChunker\n",
        "\n",
        "semantic_chunker = SemanticChunker(\n",
        "    embeddings,\n",
        "    breakpoint_threshold_type=\"percentile\"\n",
        ")"
      ]
    },
    {
      "cell_type": "code",
      "execution_count": 37,
      "metadata": {
        "id": "ROcV7o68ZIq7"
      },
      "outputs": [],
      "source": [
        "semantic_documents = semantic_chunker.split_documents(docs[:20])"
      ]
    },
    {
      "cell_type": "code",
      "execution_count": 38,
      "metadata": {
        "id": "h3sl9QjyZhIe"
      },
      "outputs": [],
      "source": [
        "semantic_vectorstore = Qdrant.from_documents(\n",
        "    semantic_documents,\n",
        "    embeddings,\n",
        "    location=\":memory:\",\n",
        "    collection_name=\"Loan_Complaint_Data_Semantic_Chunks\"\n",
        ")"
      ]
    },
    {
      "cell_type": "code",
      "execution_count": 39,
      "metadata": {
        "id": "odVyDUHwZftc"
      },
      "outputs": [],
      "source": [
        "semantic_retriever = semantic_vectorstore.as_retriever(search_kwargs={\"k\" : 10})"
      ]
    },
    {
      "cell_type": "code",
      "execution_count": 40,
      "metadata": {
        "id": "xWE_0J0mZveG"
      },
      "outputs": [],
      "source": [
        "semantic_retrieval_chain = (\n",
        "    {\"context\": itemgetter(\"question\") | semantic_retriever, \"question\": itemgetter(\"question\")}\n",
        "    | RunnablePassthrough.assign(context=itemgetter(\"context\"))\n",
        "    | {\"response\": rag_prompt | chat_model, \"context\": itemgetter(\"context\")}\n",
        ")"
      ]
    },
    {
      "cell_type": "code",
      "execution_count": 41,
      "metadata": {
        "colab": {
          "base_uri": "https://localhost:8080/",
          "height": 70
        },
        "id": "0lN2j-e4Z0SD",
        "outputId": "ef483e21-7200-4dfc-b8bf-aed4f23587b2"
      },
      "outputs": [
        {
          "data": {
            "text/plain": [
              "\"Some ramifications of legal guardianship include:\\n\\n- It is a permanent commitment to be responsible for and support the child until they reach adulthood, and sometimes until age 21 with the child's consent.\\n- Guardians have the authority to make major decisions for the child, such as medical and educational decisions.\\n- Once guardianship is established, the child's parents still retain parental rights unless these rights are terminated or surrendered.\\n- Guardians are responsible for meeting the personal needs of the child, including food, clothing, and shelter.\\n- Guardianship may impact eligibility for certain financial assistance or services, and guardians must notify the appropriate agencies of any changes in circumstances affecting eligibility.\\n- The relationship between the child and birth parents can change, especially if the birth parents' rights have not been terminated.\\n- Guardianship can be temporary or permanent, but the specifics depend on the court's decisions and the child's needs, including options for assistance payments and responsibilities regarding the child's medical and financial needs.\\n\\nIf you need more specific details or further elaboration, feel free to ask!\""
            ]
          },
          "execution_count": 41,
          "metadata": {},
          "output_type": "execute_result"
        }
      ],
      "source": [
        "semantic_retrieval_chain.invoke({\"question\" : \"What are some ramifications of legal guardianship?\"})[\"response\"].content"
      ]
    },
    {
      "cell_type": "code",
      "execution_count": null,
      "metadata": {},
      "outputs": [],
      "source": []
    },
    {
      "cell_type": "markdown",
      "metadata": {
        "id": "TWAr16a5XMub"
      },
      "source": [
        "# Evaluation"
      ]
    },
    {
      "cell_type": "code",
      "execution_count": 82,
      "metadata": {
        "id": "tgDICngKXLGK"
      },
      "outputs": [],
      "source": [
        "# Based on Session 7's notebook (Synthetic_Data_Generation_RAGAS_&_LangSmith)\n",
        "from uuid import uuid4\n",
        "\n",
        "projectUuid = f\"AIM - Advanced Retrieval tournament - {uuid4().hex[0:8]}\"\n",
        "os.environ[\"LANGCHAIN_PROJECT\"] = projectUuid\n",
        "os.environ[\"LANGSMITH_PROJECT\"] = projectUuid\n",
        "\n",
        "os.environ[\"LANGCHAIN_TRACING_V2\"] = \"true\"\n",
        "\n",
        "os.environ[\"LANGSMITH_TRACING\"] = \"true\"\n",
        "os.environ[\"LANGCHAIN_TRACING_v2\"] = \"true\"\n",
        "os.environ[\"LANGCHAIN_ENDPOINT\"] = \"https://api.smith.langchain.com/\"\n",
        "os.environ[\"LANGSMITH_ENDPOINT\"] = \"https://api.smith.langchain.com/\"\n",
        "\n",
        "\n",
        "# os.environ[\"LANGCHAIN_API_KEY\"] = getpass.getpass(\"LangChain API Key:\")"
      ]
    },
    {
      "cell_type": "code",
      "execution_count": 56,
      "metadata": {},
      "outputs": [
        {
          "name": "stderr",
          "output_type": "stream",
          "text": [
            "[nltk_data] Downloading package punkt to /Users/kyle/nltk_data...\n",
            "[nltk_data]   Package punkt is already up-to-date!\n",
            "[nltk_data] Downloading package averaged_perceptron_tagger to\n",
            "[nltk_data]     /Users/kyle/nltk_data...\n",
            "[nltk_data]   Package averaged_perceptron_tagger is already up-to-\n",
            "[nltk_data]       date!\n"
          ]
        },
        {
          "data": {
            "text/plain": [
              "True"
            ]
          },
          "execution_count": 56,
          "metadata": {},
          "output_type": "execute_result"
        }
      ],
      "source": [
        "import nltk\n",
        "nltk.download('punkt')\n",
        "nltk.download('averaged_perceptron_tagger')"
      ]
    },
    {
      "cell_type": "markdown",
      "metadata": {},
      "source": [
        "### Generate synthetic dataset using Ragas (from our original PDF)"
      ]
    },
    {
      "cell_type": "code",
      "execution_count": 42,
      "metadata": {},
      "outputs": [
        {
          "name": "stderr",
          "output_type": "stream",
          "text": [
            "/Users/kyle/development/aibootcamp/code/fostercare-rag/.venv/lib/python3.13/site-packages/pysbd/segmenter.py:66: SyntaxWarning: invalid escape sequence '\\s'\n",
            "  for match in re.finditer('{0}\\s*'.format(re.escape(sent)), self.original_text):\n",
            "/Users/kyle/development/aibootcamp/code/fostercare-rag/.venv/lib/python3.13/site-packages/pysbd/lang/arabic.py:29: SyntaxWarning: invalid escape sequence '\\.'\n",
            "  txt = re.sub('(?<={0})\\.'.format(am), '∯', txt)\n",
            "/Users/kyle/development/aibootcamp/code/fostercare-rag/.venv/lib/python3.13/site-packages/pysbd/lang/persian.py:29: SyntaxWarning: invalid escape sequence '\\.'\n",
            "  txt = re.sub('(?<={0})\\.'.format(am), '∯', txt)\n"
          ]
        }
      ],
      "source": [
        "from ragas.llms import LangchainLLMWrapper\n",
        "from ragas.embeddings import LangchainEmbeddingsWrapper\n",
        "\n",
        "generator_llm = LangchainLLMWrapper(ChatOpenAI(model=\"gpt-4.1-nano\"))\n",
        "generator_embeddings = LangchainEmbeddingsWrapper(OpenAIEmbeddings())"
      ]
    },
    {
      "cell_type": "code",
      "execution_count": 44,
      "metadata": {},
      "outputs": [
        {
          "data": {
            "application/vnd.jupyter.widget-view+json": {
              "model_id": "5d84adda5d73442cb34fda0648765f39",
              "version_major": 2,
              "version_minor": 0
            },
            "text/plain": [
              "Applying HeadlinesExtractor:   0%|          | 0/13 [00:00<?, ?it/s]"
            ]
          },
          "metadata": {},
          "output_type": "display_data"
        },
        {
          "data": {
            "application/vnd.jupyter.widget-view+json": {
              "model_id": "d4132aa2606c4d03ae0430fae4492d70",
              "version_major": 2,
              "version_minor": 0
            },
            "text/plain": [
              "Applying HeadlineSplitter:   0%|          | 0/20 [00:00<?, ?it/s]"
            ]
          },
          "metadata": {},
          "output_type": "display_data"
        },
        {
          "name": "stderr",
          "output_type": "stream",
          "text": [
            "unable to apply transformation: 'headlines' property not found in this node\n",
            "unable to apply transformation: 'headlines' property not found in this node\n",
            "unable to apply transformation: 'headlines' property not found in this node\n",
            "unable to apply transformation: 'headlines' property not found in this node\n",
            "unable to apply transformation: 'headlines' property not found in this node\n",
            "unable to apply transformation: 'headlines' property not found in this node\n",
            "unable to apply transformation: 'headlines' property not found in this node\n"
          ]
        },
        {
          "data": {
            "application/vnd.jupyter.widget-view+json": {
              "model_id": "b20fce570f024d81bdd7e58012e499e8",
              "version_major": 2,
              "version_minor": 0
            },
            "text/plain": [
              "Applying SummaryExtractor:   0%|          | 0/25 [00:00<?, ?it/s]"
            ]
          },
          "metadata": {},
          "output_type": "display_data"
        },
        {
          "name": "stderr",
          "output_type": "stream",
          "text": [
            "Property 'summary' already exists in node 'b30bd5'. Skipping!\n",
            "Property 'summary' already exists in node 'dea004'. Skipping!\n",
            "Property 'summary' already exists in node 'db6624'. Skipping!\n",
            "Property 'summary' already exists in node 'abf4b5'. Skipping!\n",
            "Property 'summary' already exists in node 'aefe54'. Skipping!\n",
            "Property 'summary' already exists in node '5de378'. Skipping!\n",
            "Property 'summary' already exists in node '47da4f'. Skipping!\n",
            "Property 'summary' already exists in node 'e87bbf'. Skipping!\n",
            "Property 'summary' already exists in node 'ea1a17'. Skipping!\n",
            "Property 'summary' already exists in node 'e1f259'. Skipping!\n",
            "Property 'summary' already exists in node 'b9ee8f'. Skipping!\n",
            "Property 'summary' already exists in node 'b69664'. Skipping!\n"
          ]
        },
        {
          "data": {
            "application/vnd.jupyter.widget-view+json": {
              "model_id": "3f159499fad94a29b89976b7eba26f63",
              "version_major": 2,
              "version_minor": 0
            },
            "text/plain": [
              "Applying CustomNodeFilter:   0%|          | 0/2 [00:00<?, ?it/s]"
            ]
          },
          "metadata": {},
          "output_type": "display_data"
        },
        {
          "data": {
            "application/vnd.jupyter.widget-view+json": {
              "model_id": "e12527046afc49faaeaafc11d0e22ff3",
              "version_major": 2,
              "version_minor": 0
            },
            "text/plain": [
              "Applying [EmbeddingExtractor, ThemesExtractor, NERExtractor]:   0%|          | 0/29 [00:00<?, ?it/s]"
            ]
          },
          "metadata": {},
          "output_type": "display_data"
        },
        {
          "name": "stderr",
          "output_type": "stream",
          "text": [
            "Property 'summary_embedding' already exists in node 'b30bd5'. Skipping!\n",
            "Property 'summary_embedding' already exists in node 'db6624'. Skipping!\n",
            "Property 'summary_embedding' already exists in node 'dea004'. Skipping!\n",
            "Property 'summary_embedding' already exists in node 'abf4b5'. Skipping!\n",
            "Property 'summary_embedding' already exists in node 'e1f259'. Skipping!\n",
            "Property 'summary_embedding' already exists in node 'e87bbf'. Skipping!\n",
            "Property 'summary_embedding' already exists in node 'aefe54'. Skipping!\n",
            "Property 'summary_embedding' already exists in node '47da4f'. Skipping!\n",
            "Property 'summary_embedding' already exists in node 'b9ee8f'. Skipping!\n",
            "Property 'summary_embedding' already exists in node 'b69664'. Skipping!\n",
            "Property 'summary_embedding' already exists in node 'ea1a17'. Skipping!\n",
            "Property 'summary_embedding' already exists in node '5de378'. Skipping!\n"
          ]
        },
        {
          "data": {
            "application/vnd.jupyter.widget-view+json": {
              "model_id": "1345855f710648db9550d3394d695ed2",
              "version_major": 2,
              "version_minor": 0
            },
            "text/plain": [
              "Applying [CosineSimilarityBuilder, OverlapScoreBuilder]:   0%|          | 0/2 [00:00<?, ?it/s]"
            ]
          },
          "metadata": {},
          "output_type": "display_data"
        },
        {
          "data": {
            "application/vnd.jupyter.widget-view+json": {
              "model_id": "ada2d536d98a45c3a764d687d7bafa59",
              "version_major": 2,
              "version_minor": 0
            },
            "text/plain": [
              "Generating personas:   0%|          | 0/3 [00:00<?, ?it/s]"
            ]
          },
          "metadata": {},
          "output_type": "display_data"
        },
        {
          "data": {
            "application/vnd.jupyter.widget-view+json": {
              "model_id": "f0c87c347ba84b6c8d2880c3018e473d",
              "version_major": 2,
              "version_minor": 0
            },
            "text/plain": [
              "Generating Scenarios:   0%|          | 0/3 [00:00<?, ?it/s]"
            ]
          },
          "metadata": {},
          "output_type": "display_data"
        },
        {
          "data": {
            "application/vnd.jupyter.widget-view+json": {
              "model_id": "06aa7cda4b5a488cb9507a5076f97756",
              "version_major": 2,
              "version_minor": 0
            },
            "text/plain": [
              "Generating Samples:   0%|          | 0/12 [00:00<?, ?it/s]"
            ]
          },
          "metadata": {},
          "output_type": "display_data"
        }
      ],
      "source": [
        "from ragas.testset import TestsetGenerator\n",
        "\n",
        "generator = TestsetGenerator(llm=generator_llm, embedding_model=generator_embeddings)\n",
        "dataset = generator.generate_with_langchain_docs(docs[:20], testset_size=10)"
      ]
    },
    {
      "cell_type": "code",
      "execution_count": 45,
      "metadata": {},
      "outputs": [
        {
          "data": {
            "text/html": [
              "<div>\n",
              "<style scoped>\n",
              "    .dataframe tbody tr th:only-of-type {\n",
              "        vertical-align: middle;\n",
              "    }\n",
              "\n",
              "    .dataframe tbody tr th {\n",
              "        vertical-align: top;\n",
              "    }\n",
              "\n",
              "    .dataframe thead th {\n",
              "        text-align: right;\n",
              "    }\n",
              "</style>\n",
              "<table border=\"1\" class=\"dataframe\">\n",
              "  <thead>\n",
              "    <tr style=\"text-align: right;\">\n",
              "      <th></th>\n",
              "      <th>user_input</th>\n",
              "      <th>reference_contexts</th>\n",
              "      <th>reference</th>\n",
              "      <th>synthesizer_name</th>\n",
              "    </tr>\n",
              "  </thead>\n",
              "  <tbody>\n",
              "    <tr>\n",
              "      <th>0</th>\n",
              "      <td>What is KinGAP and how does it help families l...</td>\n",
              "      <td>[Know Your Permanency Options: KinGAP 6 State ...</td>\n",
              "      <td>KinGAP is a permanency option where state poli...</td>\n",
              "      <td>single_hop_specifc_query_synthesizer</td>\n",
              "    </tr>\n",
              "    <tr>\n",
              "      <th>1</th>\n",
              "      <td>What does LDSS stand for?</td>\n",
              "      <td>[Know Your Permanency Options: KinGAP 6 State ...</td>\n",
              "      <td>The context does not specify what LDSS stands ...</td>\n",
              "      <td>single_hop_specifc_query_synthesizer</td>\n",
              "    </tr>\n",
              "    <tr>\n",
              "      <th>2</th>\n",
              "      <td>As a Family Law Attorney, could you explain wh...</td>\n",
              "      <td>[STEP 1: Applying for KinGAP Discuss KinGAP wi...</td>\n",
              "      <td>In the context of kinship guardianship, ACS re...</td>\n",
              "      <td>single_hop_specifc_query_synthesizer</td>\n",
              "    </tr>\n",
              "    <tr>\n",
              "      <th>3</th>\n",
              "      <td>What does LDSS stand for in the context of kin...</td>\n",
              "      <td>[STEP 1: Applying for KinGAP Discuss KinGAP wi...</td>\n",
              "      <td>LDSS refers to the local department of social ...</td>\n",
              "      <td>single_hop_specifc_query_synthesizer</td>\n",
              "    </tr>\n",
              "    <tr>\n",
              "      <th>4</th>\n",
              "      <td>How does state polcy and application review an...</td>\n",
              "      <td>[&lt;1-hop&gt;\\n\\nKnow Your Permanency Options: KinG...</td>\n",
              "      <td>State policy encourages siblings to be placed ...</td>\n",
              "      <td>multi_hop_abstract_query_synthesizer</td>\n",
              "    </tr>\n",
              "    <tr>\n",
              "      <th>5</th>\n",
              "      <td>What are the steps involved in applying for Ki...</td>\n",
              "      <td>[&lt;1-hop&gt;\\n\\nKnow Your Permanency Options: KinG...</td>\n",
              "      <td>To apply for KinGAP, you should first discuss ...</td>\n",
              "      <td>multi_hop_abstract_query_synthesizer</td>\n",
              "    </tr>\n",
              "    <tr>\n",
              "      <th>6</th>\n",
              "      <td>Based on the assessment of kinship guardianshi...</td>\n",
              "      <td>[&lt;1-hop&gt;\\n\\nKnow Your Permanency Options: KinG...</td>\n",
              "      <td>The application process for KinGAP begins with...</td>\n",
              "      <td>multi_hop_abstract_query_synthesizer</td>\n",
              "    </tr>\n",
              "    <tr>\n",
              "      <th>7</th>\n",
              "      <td>How does the kinGAP application process relate...</td>\n",
              "      <td>[&lt;1-hop&gt;\\n\\nSTEP 1: Applying for KinGAP Discus...</td>\n",
              "      <td>The kinGAP application process involves workin...</td>\n",
              "      <td>multi_hop_abstract_query_synthesizer</td>\n",
              "    </tr>\n",
              "    <tr>\n",
              "      <th>8</th>\n",
              "      <td>How does ACS determine eligibility for KinGAP,...</td>\n",
              "      <td>[&lt;1-hop&gt;\\n\\nKnow Your Permanency Options: KinG...</td>\n",
              "      <td>ACS encourages siblings to be placed together ...</td>\n",
              "      <td>multi_hop_specific_query_synthesizer</td>\n",
              "    </tr>\n",
              "    <tr>\n",
              "      <th>9</th>\n",
              "      <td>ACS kinGAP how do I apply for kinGAP with ACS ...</td>\n",
              "      <td>[&lt;1-hop&gt;\\n\\nKnow Your Permanency Options: KinG...</td>\n",
              "      <td>To apply for kinGAP with ACS, you need to disc...</td>\n",
              "      <td>multi_hop_specific_query_synthesizer</td>\n",
              "    </tr>\n",
              "    <tr>\n",
              "      <th>10</th>\n",
              "      <td>How does ACS determine eligibility for kinship...</td>\n",
              "      <td>[&lt;1-hop&gt;\\n\\nKnow Your Permanency Options: KinG...</td>\n",
              "      <td>ACS encourages siblings to be placed together ...</td>\n",
              "      <td>multi_hop_specific_query_synthesizer</td>\n",
              "    </tr>\n",
              "    <tr>\n",
              "      <th>11</th>\n",
              "      <td>How does the LDSS determine eligibility for Ki...</td>\n",
              "      <td>[&lt;1-hop&gt;\\n\\nKnow Your Permanency Options: KinG...</td>\n",
              "      <td>The LDSS assesses eligibility for KinGAP by ev...</td>\n",
              "      <td>multi_hop_specific_query_synthesizer</td>\n",
              "    </tr>\n",
              "  </tbody>\n",
              "</table>\n",
              "</div>"
            ],
            "text/plain": [
              "                                           user_input  \\\n",
              "0   What is KinGAP and how does it help families l...   \n",
              "1                           What does LDSS stand for?   \n",
              "2   As a Family Law Attorney, could you explain wh...   \n",
              "3   What does LDSS stand for in the context of kin...   \n",
              "4   How does state polcy and application review an...   \n",
              "5   What are the steps involved in applying for Ki...   \n",
              "6   Based on the assessment of kinship guardianshi...   \n",
              "7   How does the kinGAP application process relate...   \n",
              "8   How does ACS determine eligibility for KinGAP,...   \n",
              "9   ACS kinGAP how do I apply for kinGAP with ACS ...   \n",
              "10  How does ACS determine eligibility for kinship...   \n",
              "11  How does the LDSS determine eligibility for Ki...   \n",
              "\n",
              "                                   reference_contexts  \\\n",
              "0   [Know Your Permanency Options: KinGAP 6 State ...   \n",
              "1   [Know Your Permanency Options: KinGAP 6 State ...   \n",
              "2   [STEP 1: Applying for KinGAP Discuss KinGAP wi...   \n",
              "3   [STEP 1: Applying for KinGAP Discuss KinGAP wi...   \n",
              "4   [<1-hop>\\n\\nKnow Your Permanency Options: KinG...   \n",
              "5   [<1-hop>\\n\\nKnow Your Permanency Options: KinG...   \n",
              "6   [<1-hop>\\n\\nKnow Your Permanency Options: KinG...   \n",
              "7   [<1-hop>\\n\\nSTEP 1: Applying for KinGAP Discus...   \n",
              "8   [<1-hop>\\n\\nKnow Your Permanency Options: KinG...   \n",
              "9   [<1-hop>\\n\\nKnow Your Permanency Options: KinG...   \n",
              "10  [<1-hop>\\n\\nKnow Your Permanency Options: KinG...   \n",
              "11  [<1-hop>\\n\\nKnow Your Permanency Options: KinG...   \n",
              "\n",
              "                                            reference  \\\n",
              "0   KinGAP is a permanency option where state poli...   \n",
              "1   The context does not specify what LDSS stands ...   \n",
              "2   In the context of kinship guardianship, ACS re...   \n",
              "3   LDSS refers to the local department of social ...   \n",
              "4   State policy encourages siblings to be placed ...   \n",
              "5   To apply for KinGAP, you should first discuss ...   \n",
              "6   The application process for KinGAP begins with...   \n",
              "7   The kinGAP application process involves workin...   \n",
              "8   ACS encourages siblings to be placed together ...   \n",
              "9   To apply for kinGAP with ACS, you need to disc...   \n",
              "10  ACS encourages siblings to be placed together ...   \n",
              "11  The LDSS assesses eligibility for KinGAP by ev...   \n",
              "\n",
              "                        synthesizer_name  \n",
              "0   single_hop_specifc_query_synthesizer  \n",
              "1   single_hop_specifc_query_synthesizer  \n",
              "2   single_hop_specifc_query_synthesizer  \n",
              "3   single_hop_specifc_query_synthesizer  \n",
              "4   multi_hop_abstract_query_synthesizer  \n",
              "5   multi_hop_abstract_query_synthesizer  \n",
              "6   multi_hop_abstract_query_synthesizer  \n",
              "7   multi_hop_abstract_query_synthesizer  \n",
              "8   multi_hop_specific_query_synthesizer  \n",
              "9   multi_hop_specific_query_synthesizer  \n",
              "10  multi_hop_specific_query_synthesizer  \n",
              "11  multi_hop_specific_query_synthesizer  "
            ]
          },
          "execution_count": 45,
          "metadata": {},
          "output_type": "execute_result"
        }
      ],
      "source": [
        "dataset.to_pandas()"
      ]
    },
    {
      "cell_type": "code",
      "execution_count": 46,
      "metadata": {},
      "outputs": [],
      "source": [
        "# Use Ragas for eval (from Session 8 notebook Evaluating_RAG_with_RAGAS)\n",
        "import time\n",
        "import copy"
      ]
    },
    {
      "cell_type": "code",
      "execution_count": 84,
      "metadata": {},
      "outputs": [],
      "source": [
        "# Tracing fix from Session 4 Discord\n",
        "from langchain.callbacks import LangChainTracer\n",
        "from langchain.schema.runnable import RunnableConfig\n",
        "tracer = LangChainTracer(project_name=os.environ[\"LANGSMITH_PROJECT\"])"
      ]
    },
    {
      "cell_type": "markdown",
      "metadata": {},
      "source": [
        "### Run SGD examples through each retriever (and trace with tags in LangSmith so we can compare latency and cost)"
      ]
    },
    {
      "cell_type": "code",
      "execution_count": 48,
      "metadata": {},
      "outputs": [],
      "source": [
        "naive_dataset = copy.deepcopy(dataset)\n",
        "\n",
        "# i = 0\n",
        "for test_row in naive_dataset:\n",
        "#   if i<3:\n",
        "    response = naive_retrieval_chain.invoke({\"question\" : test_row.eval_sample.user_input}, {\n",
        "    # \"tags\" : [\"Naive retriever\"],\n",
        "    # \"callbacks\": [tracer]\n",
        "})\n",
        "    test_row.eval_sample.response = response[\"response\"]\n",
        "    test_row.eval_sample.retrieved_contexts = [context.page_content for context in response[\"context\"]]\n",
        "    time.sleep(2) # To try to avoid rate limiting.\n",
        "    # i += 1"
      ]
    },
    {
      "cell_type": "code",
      "execution_count": 49,
      "metadata": {},
      "outputs": [],
      "source": [
        "bm25_dataset = copy.deepcopy(dataset)\n",
        "\n",
        "for test_row in bm25_dataset:\n",
        "  response = bm25_retrieval_chain.invoke({\"question\" : test_row.eval_sample.user_input}, {\n",
        "        # \"tags\" : [\"BM25 retriever\"],\n",
        "        # \"callbacks\": [tracer]\n",
        "    })\n",
        "  test_row.eval_sample.response = response[\"response\"]\n",
        "  test_row.eval_sample.retrieved_contexts = [context.page_content for context in response[\"context\"]]\n",
        "  time.sleep(2) # To try to avoid rate limiting."
      ]
    },
    {
      "cell_type": "code",
      "execution_count": 58,
      "metadata": {},
      "outputs": [],
      "source": [
        "compression_dataset = copy.deepcopy(dataset)\n",
        "\n",
        "for test_row in compression_dataset:\n",
        "  response = contextual_compression_retrieval_chain.invoke({\"question\" : test_row.eval_sample.user_input}, {\n",
        "        # \"tags\" : [\"Compression retriever\"],\n",
        "        # \"callbacks\": [tracer]\n",
        "    })\n",
        "  test_row.eval_sample.response = response[\"response\"]\n",
        "  test_row.eval_sample.retrieved_contexts = [context.page_content for context in response[\"context\"]]\n",
        "  time.sleep(6) # To try to avoid rate limiting."
      ]
    },
    {
      "cell_type": "code",
      "execution_count": 59,
      "metadata": {},
      "outputs": [],
      "source": [
        "multi_query_dataset = copy.deepcopy(dataset)\n",
        "\n",
        "for test_row in multi_query_dataset:\n",
        "  response = multi_query_retrieval_chain.invoke({\"question\" : test_row.eval_sample.user_input}, {\n",
        "        # \"tags\" : [\"Multi query retriever\"],\n",
        "        # \"callbacks\": [tracer]\n",
        "    })\n",
        "  test_row.eval_sample.response = response[\"response\"]\n",
        "  test_row.eval_sample.retrieved_contexts = [context.page_content for context in response[\"context\"]]\n",
        "  time.sleep(2) # To try to avoid rate limiting."
      ]
    },
    {
      "cell_type": "code",
      "execution_count": 60,
      "metadata": {},
      "outputs": [],
      "source": [
        "parent_document_dataset = copy.deepcopy(dataset)\n",
        "\n",
        "for test_row in parent_document_dataset:\n",
        "  response = parent_document_retrieval_chain.invoke({\"question\" : test_row.eval_sample.user_input}, {\n",
        "        # \"tags\" : [\"Parent retriever\"],\n",
        "        # \"callbacks\": [tracer]\n",
        "    })\n",
        "  test_row.eval_sample.response = response[\"response\"]\n",
        "  test_row.eval_sample.retrieved_contexts = [context.page_content for context in response[\"context\"]]\n",
        "  time.sleep(2) # To try to avoid rate limiting."
      ]
    },
    {
      "cell_type": "code",
      "execution_count": 61,
      "metadata": {},
      "outputs": [],
      "source": [
        "ensemble_dataset = copy.deepcopy(dataset)\n",
        "\n",
        "for test_row in ensemble_dataset:\n",
        "  response = ensemble_retrieval_chain.invoke({\"question\" : test_row.eval_sample.user_input}, {\n",
        "        # \"tags\" : [\"Ensemble retriever\"],\n",
        "        # \"callbacks\": [tracer]\n",
        "    })\n",
        "  test_row.eval_sample.response = response[\"response\"]\n",
        "  test_row.eval_sample.retrieved_contexts = [context.page_content for context in response[\"context\"]]\n",
        "  time.sleep(2) # To try to avoid rate limiting."
      ]
    },
    {
      "cell_type": "code",
      "execution_count": null,
      "metadata": {},
      "outputs": [],
      "source": [
        "# Response object needs to be a string (Not AIMessage object) for pandas (should've used response[\"response\"].content)\n",
        "for test_row in naive_dataset:\n",
        "    test_row.eval_sample.response = test_row.eval_sample.response.content\n",
        "for test_row in bm25_dataset:\n",
        "    test_row.eval_sample.response = test_row.eval_sample.response.content\n",
        "for test_row in compression_dataset:\n",
        "    test_row.eval_sample.response = test_row.eval_sample.response.content\n",
        "for test_row in multi_query_dataset:\n",
        "    test_row.eval_sample.response = test_row.eval_sample.response.content\n",
        "for test_row in parent_document_dataset:\n",
        "    test_row.eval_sample.response = test_row.eval_sample.response.content\n",
        "for test_row in ensemble_dataset:\n",
        "    test_row.eval_sample.response = test_row.eval_sample.response.content"
      ]
    },
    {
      "cell_type": "code",
      "execution_count": 56,
      "metadata": {},
      "outputs": [
        {
          "data": {
            "text/plain": [
              "\"KinGAP, or the Kinship Guardianship Assistance Program, is a permanency option in New York that supports children in foster care who are placed with adults related to them or with adults who had a positive relationship with the child or their family before foster care placement. The program provides financial assistance and often medical coverage to help families like siblings stay together by enabling relatives or caring adults to assume guardianship of the child, fostering a permanent relationship.\\n\\nHow KinGAP Helps Families:\\n- It allows children to remain with familiar and connected family members or caregivers, promoting stability and ongoing relationships.\\n- It provides financial support similar to foster care payments, helping guardians meet the child's needs.\\n- It offers medical coverage for the child, which can continue even if the guardianship ends before the child turns 18, up to age 21 in some cases.\\n- The program encourages sibling placement together when possible, further supporting sibling bonds.\\n\\nWhat families should know about the guidelines and decision-making:\\n- Eligibility requires that the child has been in foster care for at least six months with a fully certified or approved foster parent and demonstrates a strong attachment to the caregiver.\\n- The child must be under age 21, and the placement must be deemed in the child's best interests, with other options like return home or adoption considered unsuitable.\\n- A court hearing (initial permanency hearing and fact-finding hearing if applicable) must have occurred, and the case involves legal evaluations.\\n- Criminal and child abuse/maltreatment background checks are necessary for adults in the household.\\n- Families are encouraged to discuss options with their caseworker and complete an application to determine eligibility.\\n- Once approved, families sign a Kinship Guardianship Assistance Agreement detailing the support and responsibilities, including the option to specify a successor guardian.\\n- Families should be aware of ongoing responsibilities such as reporting significant changes in the child's circumstances to LDSS/ACS and understanding their rights and responsibilities related to education, medical decisions, and support applications.\\n\\nDecisions about KinGAP are made by local Departments of Social Services/Office of Children and Family Services (LDSS/ACS) after reviewing eligibility and the child's best interests. Families have the right to request a fair hearing if denied and should consult their caseworker for detailed advice tailored to their specific case.\""
            ]
          },
          "execution_count": 56,
          "metadata": {},
          "output_type": "execute_result"
        }
      ],
      "source": [
        "naive_dataset.samples[0].eval_sample.response"
      ]
    },
    {
      "cell_type": "code",
      "execution_count": 53,
      "metadata": {},
      "outputs": [
        {
          "data": {
            "text/plain": [
              "\"KinGAP, or Kinship Guardianship Assistance Program, is a permanency option in New York designed to help caregivers, often relatives like siblings or other kin, assume guardianship of a child when returning home is not possible. It encourages placements with family members and provides financial and support services to help these families keep the child within their kinship network for long-term stability.\\n\\nHere's how it helps families stay together in permanency options:\\n- **Supports kinship guardianship:** KinGAP allows approved caregivers to become legal guardians of the child, reducing the likelihood of a child being placed outside their family or community.\\n- **Financial assistance:** Guardians receive monthly Kinship Guardianship Assistance payments, which are comparable to foster care payments and can be adjusted based on income and family size.\\n- **Expenses reimbursement:** There is also a one-time reimbursement of up to $2,000 for expenses related to assuming guardianship, such as legal fees.\\n- **Continued support:** Payments can continue until the child turns 18 or 21, provided the guardian meets specific ongoing responsibilities, such as supporting the child's education or employment activities.\\n\\nFamilies should know the following about the guidelines and decision-making:\\n- **Application process:** You must discuss KinGAP with your caseworker and submit an application after meeting specific criteria, such as the child being in your care for at least six months and court hearings having taken place.\\n- **Eligibility assessments:** LDSS/ACS evaluates whether kinship guardianship is a suitable permanency plan based on your case and the child's circumstances.\\n- **Agreement signing:** Once approved, you will review and sign a Kinship Guardianship Assistance Agreement that details the payment structure, services, and options for naming a successor guardian.\\n- **Court process:** Legal guardianship is finalized through a court petition; the assistance payments begin once guardianship letters are issued.\\n- **Ongoing responsibilities:** Guardians must comply with annual certifications regarding the child's status, and guardianship can be extended until the child is 18 or 21 if certain conditions are met.\\n\\nDecisions about kinship guardianship under KinGAP are made based on individual case factors, including the child's best interests, the stability of the placement, and the caregiver's ability to provide a safe and nurturing environment. Families are encouraged to work closely with their caseworkers to understand all options and requirements to determine the best permanency plan for the child.\""
            ]
          },
          "execution_count": 53,
          "metadata": {},
          "output_type": "execute_result"
        }
      ],
      "source": [
        "bm25_dataset.samples[0].eval_sample.response"
      ]
    },
    {
      "cell_type": "markdown",
      "metadata": {},
      "source": [
        "### Run RAGAS evaluations to get retrieval-specific metrics"
      ]
    },
    {
      "cell_type": "code",
      "execution_count": 63,
      "metadata": {},
      "outputs": [],
      "source": [
        "from ragas import EvaluationDataset"
      ]
    },
    {
      "cell_type": "code",
      "execution_count": 64,
      "metadata": {},
      "outputs": [],
      "source": [
        "from ragas.llms import LangchainLLMWrapper\n",
        "from ragas import evaluate, RunConfig\n",
        "\n",
        "custom_run_config = RunConfig(timeout=360)\n",
        "\n",
        "evaluator_llm = LangchainLLMWrapper(ChatOpenAI(model=\"gpt-4.1-mini\"))"
      ]
    },
    {
      "cell_type": "code",
      "execution_count": 65,
      "metadata": {},
      "outputs": [],
      "source": [
        "from ragas.metrics import Faithfulness, ResponseRelevancy, LLMContextPrecisionWithReference, LLMContextRecall\n",
        "\n",
        "# NoiseSensitivity,\n",
        "# ContextEntityRecall,\n",
        "# FactualCorrectness,\n",
        "\n",
        "metrics = [Faithfulness(), ResponseRelevancy(), LLMContextPrecisionWithReference(), LLMContextRecall()]"
      ]
    },
    {
      "cell_type": "code",
      "execution_count": 66,
      "metadata": {},
      "outputs": [
        {
          "data": {
            "application/vnd.jupyter.widget-view+json": {
              "model_id": "3728ddb503de4a9eacbf73d8803061fa",
              "version_major": 2,
              "version_minor": 0
            },
            "text/plain": [
              "Evaluating:   0%|          | 0/48 [00:00<?, ?it/s]"
            ]
          },
          "metadata": {},
          "output_type": "display_data"
        },
        {
          "data": {
            "text/plain": [
              "{'faithfulness': 0.9296, 'answer_relevancy': 0.9641, 'llm_context_precision_with_reference': 0.6737, 'context_recall': 1.0000}"
            ]
          },
          "execution_count": 66,
          "metadata": {},
          "output_type": "execute_result"
        }
      ],
      "source": [
        "naive_evaluation_dataset = EvaluationDataset.from_pandas(naive_dataset.to_pandas())\n",
        "result = evaluate(\n",
        "    dataset=naive_evaluation_dataset,\n",
        "    metrics=metrics,\n",
        "    llm=evaluator_llm,\n",
        "    run_config=custom_run_config\n",
        ")\n",
        "result"
      ]
    },
    {
      "cell_type": "code",
      "execution_count": 67,
      "metadata": {},
      "outputs": [
        {
          "data": {
            "application/vnd.jupyter.widget-view+json": {
              "model_id": "8e5edf2b3ade47efb8b759f254143798",
              "version_major": 2,
              "version_minor": 0
            },
            "text/plain": [
              "Evaluating:   0%|          | 0/48 [00:00<?, ?it/s]"
            ]
          },
          "metadata": {},
          "output_type": "display_data"
        },
        {
          "data": {
            "text/plain": [
              "{'faithfulness': 0.9539, 'answer_relevancy': 0.9663, 'llm_context_precision_with_reference': 0.8727, 'context_recall': 0.9722}"
            ]
          },
          "execution_count": 67,
          "metadata": {},
          "output_type": "execute_result"
        }
      ],
      "source": [
        "bm25 = EvaluationDataset.from_pandas(bm25_dataset.to_pandas())\n",
        "bm25_result = evaluate(\n",
        "    dataset=bm25,\n",
        "    metrics=metrics,\n",
        "    llm=evaluator_llm,\n",
        "    run_config=custom_run_config\n",
        ")\n",
        "bm25_result"
      ]
    },
    {
      "cell_type": "code",
      "execution_count": 68,
      "metadata": {},
      "outputs": [
        {
          "data": {
            "application/vnd.jupyter.widget-view+json": {
              "model_id": "1a1e4cab0287413c856fdfefdb1e6e29",
              "version_major": 2,
              "version_minor": 0
            },
            "text/plain": [
              "Evaluating:   0%|          | 0/48 [00:00<?, ?it/s]"
            ]
          },
          "metadata": {},
          "output_type": "display_data"
        },
        {
          "data": {
            "text/plain": [
              "{'faithfulness': 0.9362, 'answer_relevancy': 0.9664, 'llm_context_precision_with_reference': 1.0000, 'context_recall': 0.9306}"
            ]
          },
          "execution_count": 68,
          "metadata": {},
          "output_type": "execute_result"
        }
      ],
      "source": [
        "compression_evaluation_dataset = EvaluationDataset.from_pandas(compression_dataset.to_pandas())\n",
        "compression_result = evaluate(\n",
        "    dataset=compression_evaluation_dataset,\n",
        "    metrics=metrics,\n",
        "    llm=evaluator_llm,\n",
        "    run_config=custom_run_config\n",
        ")\n",
        "compression_result"
      ]
    },
    {
      "cell_type": "code",
      "execution_count": 69,
      "metadata": {},
      "outputs": [
        {
          "data": {
            "application/vnd.jupyter.widget-view+json": {
              "model_id": "b1c721a874bd4c2d9d60a9b4505a9892",
              "version_major": 2,
              "version_minor": 0
            },
            "text/plain": [
              "Evaluating:   0%|          | 0/48 [00:00<?, ?it/s]"
            ]
          },
          "metadata": {},
          "output_type": "display_data"
        },
        {
          "data": {
            "text/plain": [
              "{'faithfulness': 0.9419, 'answer_relevancy': 0.9586, 'llm_context_precision_with_reference': 0.6515, 'context_recall': 1.0000}"
            ]
          },
          "execution_count": 69,
          "metadata": {},
          "output_type": "execute_result"
        }
      ],
      "source": [
        "multi_query_evaluation_dataset = EvaluationDataset.from_pandas(multi_query_dataset.to_pandas())\n",
        "multiquery_result = evaluate(\n",
        "    dataset=multi_query_evaluation_dataset,\n",
        "    metrics=metrics,\n",
        "    llm=evaluator_llm,\n",
        "    run_config=custom_run_config\n",
        ")\n",
        "multiquery_result"
      ]
    },
    {
      "cell_type": "code",
      "execution_count": 70,
      "metadata": {},
      "outputs": [
        {
          "data": {
            "application/vnd.jupyter.widget-view+json": {
              "model_id": "f2a7fc59ea384d0b84b5b962cc011725",
              "version_major": 2,
              "version_minor": 0
            },
            "text/plain": [
              "Evaluating:   0%|          | 0/48 [00:00<?, ?it/s]"
            ]
          },
          "metadata": {},
          "output_type": "display_data"
        },
        {
          "data": {
            "text/plain": [
              "{'faithfulness': 0.8857, 'answer_relevancy': 0.9592, 'llm_context_precision_with_reference': 0.8819, 'context_recall': 0.9514}"
            ]
          },
          "execution_count": 70,
          "metadata": {},
          "output_type": "execute_result"
        }
      ],
      "source": [
        "parent_document_evaluation_dataset = EvaluationDataset.from_pandas(parent_document_dataset.to_pandas())\n",
        "parent_document_result = evaluate(\n",
        "    dataset=parent_document_evaluation_dataset,\n",
        "    metrics=metrics,\n",
        "    llm=evaluator_llm,\n",
        "    run_config=custom_run_config\n",
        ")\n",
        "parent_document_result"
      ]
    },
    {
      "cell_type": "code",
      "execution_count": 71,
      "metadata": {},
      "outputs": [
        {
          "data": {
            "application/vnd.jupyter.widget-view+json": {
              "model_id": "94735933b52d4edd9845c10db7e04c1d",
              "version_major": 2,
              "version_minor": 0
            },
            "text/plain": [
              "Evaluating:   0%|          | 0/48 [00:00<?, ?it/s]"
            ]
          },
          "metadata": {},
          "output_type": "display_data"
        },
        {
          "data": {
            "text/plain": [
              "{'faithfulness': 0.9822, 'answer_relevancy': 0.9598, 'llm_context_precision_with_reference': 0.8246, 'context_recall': 1.0000}"
            ]
          },
          "execution_count": 71,
          "metadata": {},
          "output_type": "execute_result"
        }
      ],
      "source": [
        "ensemble_evaluation_dataset = EvaluationDataset.from_pandas(ensemble_dataset.to_pandas())\n",
        "ensemble_result = evaluate(\n",
        "    dataset=ensemble_evaluation_dataset,\n",
        "    metrics=metrics,\n",
        "    llm=evaluator_llm,\n",
        "    run_config=custom_run_config\n",
        ")\n",
        "ensemble_result"
      ]
    },
    {
      "cell_type": "markdown",
      "metadata": {},
      "source": [
        "### Analysis"
      ]
    },
    {
      "cell_type": "markdown",
      "metadata": {},
      "source": [
        "| Retrieval Method | Faithfulness |\tResponse relevance |\tContext precision (llm_context_precision_with_reference) |\tcontext_recall |  \n",
        "|-------------|----|---|----|-----------|\n",
        "| Naive Retrieval |\t0.9296 | 0.9641 |\t0.6737 |\t1.0000 |\n",
        "| BM25 | 0.9539 | 0.9663 |\t0.8727 |\t0.9722 | \n",
        "| Contextual Compression |\t0.9362  | 0.9664  |\t1.0000  |\t0.9306  | \n",
        "| Multi-Query |  0.9419\t|  0.9586 |\t 0.6515 |\t1.0000  | \n",
        "| Parent Document | 0.8857\t| 0.9592  |\t 0.8819 |\t0.9514  |\n",
        "| Ensemble |  0.9822\t| 0.9598  |\t0.8246  |  1.0000 |\n"
      ]
    }
  ],
  "metadata": {
    "colab": {
      "provenance": [],
      "toc_visible": true
    },
    "kernelspec": {
      "display_name": ".venv",
      "language": "python",
      "name": "python3"
    },
    "language_info": {
      "codemirror_mode": {
        "name": "ipython",
        "version": 3
      },
      "file_extension": ".py",
      "mimetype": "text/x-python",
      "name": "python",
      "nbconvert_exporter": "python",
      "pygments_lexer": "ipython3",
      "version": "3.13.2"
    }
  },
  "nbformat": 4,
  "nbformat_minor": 0
}
